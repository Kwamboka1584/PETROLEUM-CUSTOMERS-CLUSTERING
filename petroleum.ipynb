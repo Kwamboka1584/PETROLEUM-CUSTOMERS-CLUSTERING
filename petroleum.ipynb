{
 "cells": [
  {
   "cell_type": "markdown",
   "id": "f6614e44",
   "metadata": {},
   "source": [
    "#  Petroleum Customer Clustering Project — Sicah Energies LTD\n",
    "\n",
    "## 1. Business Understanding\n",
    "\n",
    "Sicah Energies LTD is a petroleum products dealer that serves a diverse range of customers — from individual motorists and small businesses to large commercial clients. Each customer segment demonstrates unique purchasing behaviors such as fueling frequency, preferred fuel type, payment methods, and spending levels.\n",
    "\n",
    "In an increasingly competitive petroleum market, understanding customer behavior is essential for maintaining loyalty and improving profitability. Applying uniform marketing, pricing, and loyalty strategies across all customers often leads to inefficiencies and lost opportunities.\n",
    "\n",
    "This project seeks to **analyze and segment Sicah Energies LTD’s customers** based on their purchasing and behavioral characteristics. Through data-driven insights, the company aims to enhance its marketing strategies, strengthen customer relationships, and improve overall business performance.\n"
   ]
  },
  {
   "cell_type": "markdown",
   "id": "abd4d760",
   "metadata": {},
   "source": [
    "## 2. Problem Statement\n",
    "\n",
    "Sicah Energies LTD currently lacks a clear understanding of the various customer groups it serves. Without data-driven segmentation, all customers are treated uniformly when designing loyalty programs, promotional campaigns, and service packages.\n",
    "\n",
    "This generalized approach has led to:\n",
    "- Missed opportunities for targeted marketing,\n",
    "- Inefficient allocation of marketing resources,\n",
    "- Poor understanding of customer churn risks and demand variations.\n",
    "\n",
    "To address this challenge, this project will apply **unsupervised machine learning (clustering)** to group customers with similar characteristics and purchasing patterns. These insights will enable the company to design tailored marketing initiatives, improve loyalty programs, and optimize operational decisions.\n"
   ]
  },
  {
   "cell_type": "markdown",
   "id": "b15376aa",
   "metadata": {},
   "source": [
    "## 4. Success Criteria\n",
    "\n",
    "The success of this project will be evaluated based on the following:\n",
    "\n",
    "- The clustering model should identify **distinct and interpretable customer groups**.  \n",
    "- Each identified cluster should display clear differences in behavior, such as spending habits, frequency of visits, or fuel type preferences.  \n",
    "- The insights generated should support **data-driven decision-making** at Sicah Energies LTD, enabling personalized marketing, customer retention, and increased profitability.\n"
   ]
  },
  {
   "cell_type": "markdown",
   "id": "6e7192c4",
   "metadata": {},
   "source": [
    "## 5. Dataset Description\n",
    "\n",
    "The dataset used in this analysis contains anonymized customer records provided by **Sicah Energies LTD**.  \n",
    "Each record represents a unique customer and captures both behavioral and demographic information.\n",
    "\n",
    "| Column | Description |\n",
    "|---------|-------------|\n",
    "| `customer_id` | Unique identifier for each customer |\n",
    "| `station_id` | The station where the customer primarily transacts |\n",
    "| `avg_monthly_litres` | Average fuel volume purchased per month |\n",
    "| `avg_monthly_spend` | Total amount spent per month (in local currency) |\n",
    "| `visits_per_month` | Average number of fueling visits per month |\n",
    "| `preferred_fuel` | Type of fuel mostly purchased (Petrol, Diesel, or Kerosene) |\n",
    "| `payment_method` | Primary payment mode (Mpesa, Cash, or Credit) |\n",
    "| `location_type` | Indicates whether the customer is based in an Urban or Rural area |\n",
    "| `loyalty_score` | Loyalty metric ranging from 0 to 100, representing customer engagement |\n",
    "\n",
    "This dataset will form the foundation for the **clustering analysis**, enabling the identification of patterns and groupings within Sicah Energies LTD’s customer base.\n"
   ]
  },
  {
   "cell_type": "markdown",
   "id": "8a79a4ea",
   "metadata": {},
   "source": [
    "# 6. Data Understanding\n",
    "\n",
    "In this phase, we explore the structure and content of Sicah Energies LTD’s customer dataset to gain a deeper understanding of the variables available for analysis.\n",
    "\n",
    "This includes:\n",
    "- Loading the dataset into a pandas DataFrame  \n",
    "- Inspecting the first few records  \n",
    "- Reviewing data types and basic statistics  \n",
    "- Identifying missing or inconsistent values  \n",
    "- Understanding categorical feature distributions  \n",
    "\n",
    "A clear understanding of the data ensures that we prepare it appropriately for clustering and derive reliable insights.\n"
   ]
  },
  {
   "cell_type": "markdown",
   "id": "60c29d9f",
   "metadata": {},
   "source": [
    "# 7. Load and Inspect Dataset"
   ]
  },
  {
   "cell_type": "code",
   "execution_count": 2,
   "id": "76f2a5f7",
   "metadata": {},
   "outputs": [
    {
     "data": {
      "text/html": [
       "<div>\n",
       "<style scoped>\n",
       "    .dataframe tbody tr th:only-of-type {\n",
       "        vertical-align: middle;\n",
       "    }\n",
       "\n",
       "    .dataframe tbody tr th {\n",
       "        vertical-align: top;\n",
       "    }\n",
       "\n",
       "    .dataframe thead th {\n",
       "        text-align: right;\n",
       "    }\n",
       "</style>\n",
       "<table border=\"1\" class=\"dataframe\">\n",
       "  <thead>\n",
       "    <tr style=\"text-align: right;\">\n",
       "      <th></th>\n",
       "      <th>customer_id</th>\n",
       "      <th>station_id</th>\n",
       "      <th>avg_monthly_litres</th>\n",
       "      <th>avg_monthly_spend</th>\n",
       "      <th>visits_per_month</th>\n",
       "      <th>preferred_fuel</th>\n",
       "      <th>payment_method</th>\n",
       "      <th>location_type</th>\n",
       "      <th>loyalty_score</th>\n",
       "    </tr>\n",
       "  </thead>\n",
       "  <tbody>\n",
       "    <tr>\n",
       "      <th>0</th>\n",
       "      <td>C001</td>\n",
       "      <td>107</td>\n",
       "      <td>813</td>\n",
       "      <td>149738.16</td>\n",
       "      <td>8</td>\n",
       "      <td>Petrol</td>\n",
       "      <td>Cash</td>\n",
       "      <td>Rural</td>\n",
       "      <td>60</td>\n",
       "    </tr>\n",
       "    <tr>\n",
       "      <th>1</th>\n",
       "      <td>C002</td>\n",
       "      <td>104</td>\n",
       "      <td>444</td>\n",
       "      <td>78369.02</td>\n",
       "      <td>6</td>\n",
       "      <td>Petrol</td>\n",
       "      <td>Mpesa</td>\n",
       "      <td>Urban</td>\n",
       "      <td>46</td>\n",
       "    </tr>\n",
       "    <tr>\n",
       "      <th>2</th>\n",
       "      <td>C003</td>\n",
       "      <td>108</td>\n",
       "      <td>518</td>\n",
       "      <td>83554.63</td>\n",
       "      <td>5</td>\n",
       "      <td>Diesel</td>\n",
       "      <td>Mpesa</td>\n",
       "      <td>Urban</td>\n",
       "      <td>83</td>\n",
       "    </tr>\n",
       "    <tr>\n",
       "      <th>3</th>\n",
       "      <td>C004</td>\n",
       "      <td>105</td>\n",
       "      <td>410</td>\n",
       "      <td>73387.76</td>\n",
       "      <td>8</td>\n",
       "      <td>Petrol</td>\n",
       "      <td>Cash</td>\n",
       "      <td>Urban</td>\n",
       "      <td>91</td>\n",
       "    </tr>\n",
       "    <tr>\n",
       "      <th>4</th>\n",
       "      <td>C005</td>\n",
       "      <td>107</td>\n",
       "      <td>277</td>\n",
       "      <td>52226.16</td>\n",
       "      <td>4</td>\n",
       "      <td>Diesel</td>\n",
       "      <td>Credit</td>\n",
       "      <td>Urban</td>\n",
       "      <td>61</td>\n",
       "    </tr>\n",
       "  </tbody>\n",
       "</table>\n",
       "</div>"
      ],
      "text/plain": [
       "  customer_id  station_id  avg_monthly_litres  avg_monthly_spend  \\\n",
       "0        C001         107                 813          149738.16   \n",
       "1        C002         104                 444           78369.02   \n",
       "2        C003         108                 518           83554.63   \n",
       "3        C004         105                 410           73387.76   \n",
       "4        C005         107                 277           52226.16   \n",
       "\n",
       "   visits_per_month preferred_fuel payment_method location_type  loyalty_score  \n",
       "0                 8         Petrol           Cash         Rural             60  \n",
       "1                 6         Petrol          Mpesa         Urban             46  \n",
       "2                 5         Diesel          Mpesa         Urban             83  \n",
       "3                 8         Petrol           Cash         Urban             91  \n",
       "4                 4         Diesel         Credit         Urban             61  "
      ]
     },
     "execution_count": 2,
     "metadata": {},
     "output_type": "execute_result"
    }
   ],
   "source": [
    "# Import required libraries\n",
    "import pandas as pd\n",
    "import numpy as np\n",
    "\n",
    "# Load dataset\n",
    "df = pd.read_csv(\"Data\\petroleum_customers.csv\")\n",
    "\n",
    "# Display the first 5 records\n",
    "df.head()\n"
   ]
  },
  {
   "cell_type": "markdown",
   "id": "5ee0586b",
   "metadata": {},
   "source": [
    "# 8. Explore Dataset structure"
   ]
  },
  {
   "cell_type": "code",
   "execution_count": 3,
   "id": "2f01f364",
   "metadata": {},
   "outputs": [
    {
     "name": "stdout",
     "output_type": "stream",
     "text": [
      "Dataset contains 500 rows and 9 columns.\n",
      "\n",
      "<class 'pandas.core.frame.DataFrame'>\n",
      "RangeIndex: 500 entries, 0 to 499\n",
      "Data columns (total 9 columns):\n",
      " #   Column              Non-Null Count  Dtype  \n",
      "---  ------              --------------  -----  \n",
      " 0   customer_id         500 non-null    object \n",
      " 1   station_id          500 non-null    int64  \n",
      " 2   avg_monthly_litres  500 non-null    int64  \n",
      " 3   avg_monthly_spend   500 non-null    float64\n",
      " 4   visits_per_month    500 non-null    int64  \n",
      " 5   preferred_fuel      500 non-null    object \n",
      " 6   payment_method      500 non-null    object \n",
      " 7   location_type       500 non-null    object \n",
      " 8   loyalty_score       500 non-null    int64  \n",
      "dtypes: float64(1), int64(4), object(4)\n",
      "memory usage: 35.3+ KB\n"
     ]
    },
    {
     "data": {
      "text/html": [
       "<div>\n",
       "<style scoped>\n",
       "    .dataframe tbody tr th:only-of-type {\n",
       "        vertical-align: middle;\n",
       "    }\n",
       "\n",
       "    .dataframe tbody tr th {\n",
       "        vertical-align: top;\n",
       "    }\n",
       "\n",
       "    .dataframe thead th {\n",
       "        text-align: right;\n",
       "    }\n",
       "</style>\n",
       "<table border=\"1\" class=\"dataframe\">\n",
       "  <thead>\n",
       "    <tr style=\"text-align: right;\">\n",
       "      <th></th>\n",
       "      <th>count</th>\n",
       "      <th>mean</th>\n",
       "      <th>std</th>\n",
       "      <th>min</th>\n",
       "      <th>25%</th>\n",
       "      <th>50%</th>\n",
       "      <th>75%</th>\n",
       "      <th>max</th>\n",
       "    </tr>\n",
       "  </thead>\n",
       "  <tbody>\n",
       "    <tr>\n",
       "      <th>station_id</th>\n",
       "      <td>500.0</td>\n",
       "      <td>105.43000</td>\n",
       "      <td>2.941156</td>\n",
       "      <td>101.00</td>\n",
       "      <td>103.0000</td>\n",
       "      <td>105.00</td>\n",
       "      <td>108.0000</td>\n",
       "      <td>110.0</td>\n",
       "    </tr>\n",
       "    <tr>\n",
       "      <th>avg_monthly_litres</th>\n",
       "      <td>500.0</td>\n",
       "      <td>491.88400</td>\n",
       "      <td>239.754497</td>\n",
       "      <td>56.00</td>\n",
       "      <td>320.0000</td>\n",
       "      <td>449.00</td>\n",
       "      <td>623.0000</td>\n",
       "      <td>1335.0</td>\n",
       "    </tr>\n",
       "    <tr>\n",
       "      <th>avg_monthly_spend</th>\n",
       "      <td>500.0</td>\n",
       "      <td>86120.78778</td>\n",
       "      <td>42365.203622</td>\n",
       "      <td>9830.37</td>\n",
       "      <td>55453.1075</td>\n",
       "      <td>78524.88</td>\n",
       "      <td>110700.6875</td>\n",
       "      <td>230185.9</td>\n",
       "    </tr>\n",
       "    <tr>\n",
       "      <th>visits_per_month</th>\n",
       "      <td>500.0</td>\n",
       "      <td>7.57400</td>\n",
       "      <td>2.892275</td>\n",
       "      <td>1.00</td>\n",
       "      <td>6.0000</td>\n",
       "      <td>8.00</td>\n",
       "      <td>10.0000</td>\n",
       "      <td>17.0</td>\n",
       "    </tr>\n",
       "    <tr>\n",
       "      <th>loyalty_score</th>\n",
       "      <td>500.0</td>\n",
       "      <td>64.21000</td>\n",
       "      <td>19.728871</td>\n",
       "      <td>30.00</td>\n",
       "      <td>47.0000</td>\n",
       "      <td>65.00</td>\n",
       "      <td>81.0000</td>\n",
       "      <td>99.0</td>\n",
       "    </tr>\n",
       "  </tbody>\n",
       "</table>\n",
       "</div>"
      ],
      "text/plain": [
       "                    count         mean           std      min         25%  \\\n",
       "station_id          500.0    105.43000      2.941156   101.00    103.0000   \n",
       "avg_monthly_litres  500.0    491.88400    239.754497    56.00    320.0000   \n",
       "avg_monthly_spend   500.0  86120.78778  42365.203622  9830.37  55453.1075   \n",
       "visits_per_month    500.0      7.57400      2.892275     1.00      6.0000   \n",
       "loyalty_score       500.0     64.21000     19.728871    30.00     47.0000   \n",
       "\n",
       "                         50%          75%       max  \n",
       "station_id            105.00     108.0000     110.0  \n",
       "avg_monthly_litres    449.00     623.0000    1335.0  \n",
       "avg_monthly_spend   78524.88  110700.6875  230185.9  \n",
       "visits_per_month        8.00      10.0000      17.0  \n",
       "loyalty_score          65.00      81.0000      99.0  "
      ]
     },
     "execution_count": 3,
     "metadata": {},
     "output_type": "execute_result"
    }
   ],
   "source": [
    "# Check dataset shape\n",
    "print(f\"Dataset contains {df.shape[0]} rows and {df.shape[1]} columns.\\n\")\n",
    "\n",
    "# Display column names and data types\n",
    "df.info()\n",
    "\n",
    "# Quick overview of numerical statistics\n",
    "df.describe().T\n"
   ]
  },
  {
   "cell_type": "code",
   "execution_count": 4,
   "id": "afc6c014",
   "metadata": {},
   "outputs": [
    {
     "name": "stdout",
     "output_type": "stream",
     "text": [
      "\n",
      "Number of duplicate rows: 0\n"
     ]
    }
   ],
   "source": [
    "# Check for duplicates\n",
    "duplicates = df.duplicated().sum()\n",
    "print(f\"\\nNumber of duplicate rows: {duplicates}\")"
   ]
  },
  {
   "cell_type": "markdown",
   "id": "2bc33805",
   "metadata": {},
   "source": [
    "# Categorical Variable Distribution"
   ]
  },
  {
   "cell_type": "code",
   "execution_count": 5,
   "id": "0ec4e5a4",
   "metadata": {},
   "outputs": [
    {
     "name": "stdout",
     "output_type": "stream",
     "text": [
      "\n",
      "--- PREFERRED_FUEL ---\n",
      "preferred_fuel\n",
      "Petrol      54.6\n",
      "Diesel      34.6\n",
      "Kerosene    10.8\n",
      "Name: proportion, dtype: float64\n",
      "\n",
      "--- PAYMENT_METHOD ---\n",
      "payment_method\n",
      "Mpesa     50.4\n",
      "Cash      30.2\n",
      "Credit    19.4\n",
      "Name: proportion, dtype: float64\n",
      "\n",
      "--- LOCATION_TYPE ---\n",
      "location_type\n",
      "Urban    72.4\n",
      "Rural    27.6\n",
      "Name: proportion, dtype: float64\n"
     ]
    }
   ],
   "source": [
    "# Display unique values and counts for categorical features\n",
    "categorical_cols = [\"preferred_fuel\", \"payment_method\", \"location_type\"]\n",
    "\n",
    "for col in categorical_cols:\n",
    "    print(f\"\\n--- {col.upper()} ---\")\n",
    "    print(df[col].value_counts(normalize=True) * 100)\n"
   ]
  },
  {
   "cell_type": "markdown",
   "id": "bf2c973e",
   "metadata": {},
   "source": [
    "# 11: Numerical Feature Distributions"
   ]
  },
  {
   "cell_type": "code",
   "execution_count": 6,
   "id": "31f8a856",
   "metadata": {},
   "outputs": [
    {
     "ename": "ValueError",
     "evalue": "Multi-dimensional indexing (e.g. `obj[:, None]`) is no longer supported. Convert to a numpy array before indexing instead.",
     "output_type": "error",
     "traceback": [
      "\u001b[1;31m---------------------------------------------------------------------------\u001b[0m",
      "\u001b[1;31mValueError\u001b[0m                                Traceback (most recent call last)",
      "\u001b[1;32m<ipython-input-6-f64bfa86051d>\u001b[0m in \u001b[0;36m<module>\u001b[1;34m\u001b[0m\n\u001b[0;32m      8\u001b[0m \u001b[1;32mfor\u001b[0m \u001b[0mi\u001b[0m\u001b[1;33m,\u001b[0m \u001b[0mcol\u001b[0m \u001b[1;32min\u001b[0m \u001b[0menumerate\u001b[0m\u001b[1;33m(\u001b[0m\u001b[0mnum_cols\u001b[0m\u001b[1;33m,\u001b[0m \u001b[1;36m1\u001b[0m\u001b[1;33m)\u001b[0m\u001b[1;33m:\u001b[0m\u001b[1;33m\u001b[0m\u001b[1;33m\u001b[0m\u001b[0m\n\u001b[0;32m      9\u001b[0m     \u001b[0mplt\u001b[0m\u001b[1;33m.\u001b[0m\u001b[0msubplot\u001b[0m\u001b[1;33m(\u001b[0m\u001b[1;36m2\u001b[0m\u001b[1;33m,\u001b[0m \u001b[1;36m2\u001b[0m\u001b[1;33m,\u001b[0m \u001b[0mi\u001b[0m\u001b[1;33m)\u001b[0m\u001b[1;33m\u001b[0m\u001b[1;33m\u001b[0m\u001b[0m\n\u001b[1;32m---> 10\u001b[1;33m     \u001b[0msns\u001b[0m\u001b[1;33m.\u001b[0m\u001b[0mhistplot\u001b[0m\u001b[1;33m(\u001b[0m\u001b[0mdf\u001b[0m\u001b[1;33m[\u001b[0m\u001b[0mcol\u001b[0m\u001b[1;33m]\u001b[0m\u001b[1;33m,\u001b[0m \u001b[0mkde\u001b[0m\u001b[1;33m=\u001b[0m\u001b[1;32mTrue\u001b[0m\u001b[1;33m,\u001b[0m \u001b[0mbins\u001b[0m\u001b[1;33m=\u001b[0m\u001b[1;36m30\u001b[0m\u001b[1;33m,\u001b[0m \u001b[0mcolor\u001b[0m\u001b[1;33m=\u001b[0m\u001b[1;34m'skyblue'\u001b[0m\u001b[1;33m)\u001b[0m\u001b[1;33m\u001b[0m\u001b[1;33m\u001b[0m\u001b[0m\n\u001b[0m\u001b[0;32m     11\u001b[0m     \u001b[0mplt\u001b[0m\u001b[1;33m.\u001b[0m\u001b[0mtitle\u001b[0m\u001b[1;33m(\u001b[0m\u001b[1;34mf\"Distribution of {col}\"\u001b[0m\u001b[1;33m)\u001b[0m\u001b[1;33m\u001b[0m\u001b[1;33m\u001b[0m\u001b[0m\n\u001b[0;32m     12\u001b[0m \u001b[0mplt\u001b[0m\u001b[1;33m.\u001b[0m\u001b[0mtight_layout\u001b[0m\u001b[1;33m(\u001b[0m\u001b[1;33m)\u001b[0m\u001b[1;33m\u001b[0m\u001b[1;33m\u001b[0m\u001b[0m\n",
      "\u001b[1;32mc:\\Users\\Admin\\anaconda3\\envs\\learn-env\\lib\\site-packages\\seaborn\\distributions.py\u001b[0m in \u001b[0;36mhistplot\u001b[1;34m(data, x, y, hue, weights, stat, bins, binwidth, binrange, discrete, cumulative, common_bins, common_norm, multiple, element, fill, shrink, kde, kde_kws, line_kws, thresh, pthresh, pmax, cbar, cbar_ax, cbar_kws, palette, hue_order, hue_norm, color, log_scale, legend, ax, **kwargs)\u001b[0m\n\u001b[0;32m   1420\u001b[0m     \u001b[1;32mif\u001b[0m \u001b[0mp\u001b[0m\u001b[1;33m.\u001b[0m\u001b[0munivariate\u001b[0m\u001b[1;33m:\u001b[0m\u001b[1;33m\u001b[0m\u001b[1;33m\u001b[0m\u001b[0m\n\u001b[0;32m   1421\u001b[0m \u001b[1;33m\u001b[0m\u001b[0m\n\u001b[1;32m-> 1422\u001b[1;33m         p.plot_univariate_histogram(\n\u001b[0m\u001b[0;32m   1423\u001b[0m             \u001b[0mmultiple\u001b[0m\u001b[1;33m=\u001b[0m\u001b[0mmultiple\u001b[0m\u001b[1;33m,\u001b[0m\u001b[1;33m\u001b[0m\u001b[1;33m\u001b[0m\u001b[0m\n\u001b[0;32m   1424\u001b[0m             \u001b[0melement\u001b[0m\u001b[1;33m=\u001b[0m\u001b[0melement\u001b[0m\u001b[1;33m,\u001b[0m\u001b[1;33m\u001b[0m\u001b[1;33m\u001b[0m\u001b[0m\n",
      "\u001b[1;32mc:\\Users\\Admin\\anaconda3\\envs\\learn-env\\lib\\site-packages\\seaborn\\distributions.py\u001b[0m in \u001b[0;36mplot_univariate_histogram\u001b[1;34m(self, multiple, element, fill, common_norm, common_bins, shrink, kde, kde_kws, color, legend, line_kws, estimate_kws, **plot_kws)\u001b[0m\n\u001b[0;32m    631\u001b[0m \u001b[1;33m\u001b[0m\u001b[0m\n\u001b[0;32m    632\u001b[0m                 \u001b[0mline_kws\u001b[0m\u001b[1;33m[\u001b[0m\u001b[1;34m\"color\"\u001b[0m\u001b[1;33m]\u001b[0m \u001b[1;33m=\u001b[0m \u001b[0mto_rgba\u001b[0m\u001b[1;33m(\u001b[0m\u001b[0mcolor\u001b[0m\u001b[1;33m,\u001b[0m \u001b[1;36m1\u001b[0m\u001b[1;33m)\u001b[0m\u001b[1;33m\u001b[0m\u001b[1;33m\u001b[0m\u001b[0m\n\u001b[1;32m--> 633\u001b[1;33m                 line, = ax.plot(\n\u001b[0m\u001b[0;32m    634\u001b[0m                     \u001b[1;33m*\u001b[0m\u001b[0mline_args\u001b[0m\u001b[1;33m,\u001b[0m \u001b[1;33m**\u001b[0m\u001b[0mline_kws\u001b[0m\u001b[1;33m,\u001b[0m\u001b[1;33m\u001b[0m\u001b[1;33m\u001b[0m\u001b[0m\n\u001b[0;32m    635\u001b[0m                 )\n",
      "\u001b[1;32mc:\\Users\\Admin\\anaconda3\\envs\\learn-env\\lib\\site-packages\\matplotlib\\axes\\_axes.py\u001b[0m in \u001b[0;36mplot\u001b[1;34m(self, scalex, scaley, data, *args, **kwargs)\u001b[0m\n\u001b[0;32m   1741\u001b[0m         \"\"\"\n\u001b[0;32m   1742\u001b[0m         \u001b[0mkwargs\u001b[0m \u001b[1;33m=\u001b[0m \u001b[0mcbook\u001b[0m\u001b[1;33m.\u001b[0m\u001b[0mnormalize_kwargs\u001b[0m\u001b[1;33m(\u001b[0m\u001b[0mkwargs\u001b[0m\u001b[1;33m,\u001b[0m \u001b[0mmlines\u001b[0m\u001b[1;33m.\u001b[0m\u001b[0mLine2D\u001b[0m\u001b[1;33m)\u001b[0m\u001b[1;33m\u001b[0m\u001b[1;33m\u001b[0m\u001b[0m\n\u001b[1;32m-> 1743\u001b[1;33m         \u001b[0mlines\u001b[0m \u001b[1;33m=\u001b[0m \u001b[1;33m[\u001b[0m\u001b[1;33m*\u001b[0m\u001b[0mself\u001b[0m\u001b[1;33m.\u001b[0m\u001b[0m_get_lines\u001b[0m\u001b[1;33m(\u001b[0m\u001b[1;33m*\u001b[0m\u001b[0margs\u001b[0m\u001b[1;33m,\u001b[0m \u001b[0mdata\u001b[0m\u001b[1;33m=\u001b[0m\u001b[0mdata\u001b[0m\u001b[1;33m,\u001b[0m \u001b[1;33m**\u001b[0m\u001b[0mkwargs\u001b[0m\u001b[1;33m)\u001b[0m\u001b[1;33m]\u001b[0m\u001b[1;33m\u001b[0m\u001b[1;33m\u001b[0m\u001b[0m\n\u001b[0m\u001b[0;32m   1744\u001b[0m         \u001b[1;32mfor\u001b[0m \u001b[0mline\u001b[0m \u001b[1;32min\u001b[0m \u001b[0mlines\u001b[0m\u001b[1;33m:\u001b[0m\u001b[1;33m\u001b[0m\u001b[1;33m\u001b[0m\u001b[0m\n\u001b[0;32m   1745\u001b[0m             \u001b[0mself\u001b[0m\u001b[1;33m.\u001b[0m\u001b[0madd_line\u001b[0m\u001b[1;33m(\u001b[0m\u001b[0mline\u001b[0m\u001b[1;33m)\u001b[0m\u001b[1;33m\u001b[0m\u001b[1;33m\u001b[0m\u001b[0m\n",
      "\u001b[1;32mc:\\Users\\Admin\\anaconda3\\envs\\learn-env\\lib\\site-packages\\matplotlib\\axes\\_base.py\u001b[0m in \u001b[0;36m__call__\u001b[1;34m(self, data, *args, **kwargs)\u001b[0m\n\u001b[0;32m    271\u001b[0m                 \u001b[0mthis\u001b[0m \u001b[1;33m+=\u001b[0m \u001b[0margs\u001b[0m\u001b[1;33m[\u001b[0m\u001b[1;36m0\u001b[0m\u001b[1;33m]\u001b[0m\u001b[1;33m,\u001b[0m\u001b[1;33m\u001b[0m\u001b[1;33m\u001b[0m\u001b[0m\n\u001b[0;32m    272\u001b[0m                 \u001b[0margs\u001b[0m \u001b[1;33m=\u001b[0m \u001b[0margs\u001b[0m\u001b[1;33m[\u001b[0m\u001b[1;36m1\u001b[0m\u001b[1;33m:\u001b[0m\u001b[1;33m]\u001b[0m\u001b[1;33m\u001b[0m\u001b[1;33m\u001b[0m\u001b[0m\n\u001b[1;32m--> 273\u001b[1;33m             \u001b[1;32myield\u001b[0m \u001b[1;32mfrom\u001b[0m \u001b[0mself\u001b[0m\u001b[1;33m.\u001b[0m\u001b[0m_plot_args\u001b[0m\u001b[1;33m(\u001b[0m\u001b[0mthis\u001b[0m\u001b[1;33m,\u001b[0m \u001b[0mkwargs\u001b[0m\u001b[1;33m)\u001b[0m\u001b[1;33m\u001b[0m\u001b[1;33m\u001b[0m\u001b[0m\n\u001b[0m\u001b[0;32m    274\u001b[0m \u001b[1;33m\u001b[0m\u001b[0m\n\u001b[0;32m    275\u001b[0m     \u001b[1;32mdef\u001b[0m \u001b[0mget_next_color\u001b[0m\u001b[1;33m(\u001b[0m\u001b[0mself\u001b[0m\u001b[1;33m)\u001b[0m\u001b[1;33m:\u001b[0m\u001b[1;33m\u001b[0m\u001b[1;33m\u001b[0m\u001b[0m\n",
      "\u001b[1;32mc:\\Users\\Admin\\anaconda3\\envs\\learn-env\\lib\\site-packages\\matplotlib\\axes\\_base.py\u001b[0m in \u001b[0;36m_plot_args\u001b[1;34m(self, tup, kwargs)\u001b[0m\n\u001b[0;32m    386\u001b[0m \u001b[1;33m\u001b[0m\u001b[0m\n\u001b[0;32m    387\u001b[0m         \u001b[1;32mif\u001b[0m \u001b[0mlen\u001b[0m\u001b[1;33m(\u001b[0m\u001b[0mtup\u001b[0m\u001b[1;33m)\u001b[0m \u001b[1;33m==\u001b[0m \u001b[1;36m2\u001b[0m\u001b[1;33m:\u001b[0m\u001b[1;33m\u001b[0m\u001b[1;33m\u001b[0m\u001b[0m\n\u001b[1;32m--> 388\u001b[1;33m             \u001b[0mx\u001b[0m \u001b[1;33m=\u001b[0m \u001b[0m_check_1d\u001b[0m\u001b[1;33m(\u001b[0m\u001b[0mtup\u001b[0m\u001b[1;33m[\u001b[0m\u001b[1;36m0\u001b[0m\u001b[1;33m]\u001b[0m\u001b[1;33m)\u001b[0m\u001b[1;33m\u001b[0m\u001b[1;33m\u001b[0m\u001b[0m\n\u001b[0m\u001b[0;32m    389\u001b[0m             \u001b[0my\u001b[0m \u001b[1;33m=\u001b[0m \u001b[0m_check_1d\u001b[0m\u001b[1;33m(\u001b[0m\u001b[0mtup\u001b[0m\u001b[1;33m[\u001b[0m\u001b[1;33m-\u001b[0m\u001b[1;36m1\u001b[0m\u001b[1;33m]\u001b[0m\u001b[1;33m)\u001b[0m\u001b[1;33m\u001b[0m\u001b[1;33m\u001b[0m\u001b[0m\n\u001b[0;32m    390\u001b[0m         \u001b[1;32melse\u001b[0m\u001b[1;33m:\u001b[0m\u001b[1;33m\u001b[0m\u001b[1;33m\u001b[0m\u001b[0m\n",
      "\u001b[1;32mc:\\Users\\Admin\\anaconda3\\envs\\learn-env\\lib\\site-packages\\matplotlib\\cbook\\__init__.py\u001b[0m in \u001b[0;36m_check_1d\u001b[1;34m(x)\u001b[0m\n\u001b[0;32m   1316\u001b[0m                     message='Support for multi-dimensional indexing')\n\u001b[0;32m   1317\u001b[0m \u001b[1;33m\u001b[0m\u001b[0m\n\u001b[1;32m-> 1318\u001b[1;33m                 \u001b[0mndim\u001b[0m \u001b[1;33m=\u001b[0m \u001b[0mx\u001b[0m\u001b[1;33m[\u001b[0m\u001b[1;33m:\u001b[0m\u001b[1;33m,\u001b[0m \u001b[1;32mNone\u001b[0m\u001b[1;33m]\u001b[0m\u001b[1;33m.\u001b[0m\u001b[0mndim\u001b[0m\u001b[1;33m\u001b[0m\u001b[1;33m\u001b[0m\u001b[0m\n\u001b[0m\u001b[0;32m   1319\u001b[0m                 \u001b[1;31m# we have definitely hit a pandas index or series object\u001b[0m\u001b[1;33m\u001b[0m\u001b[1;33m\u001b[0m\u001b[1;33m\u001b[0m\u001b[0m\n\u001b[0;32m   1320\u001b[0m                 \u001b[1;31m# cast to a numpy array.\u001b[0m\u001b[1;33m\u001b[0m\u001b[1;33m\u001b[0m\u001b[1;33m\u001b[0m\u001b[0m\n",
      "\u001b[1;32m~\\AppData\\Roaming\\Python\\Python38\\site-packages\\pandas\\core\\indexes\\base.py\u001b[0m in \u001b[0;36m__getitem__\u001b[1;34m(self, key)\u001b[0m\n\u001b[0;32m   5197\u001b[0m         \u001b[1;31m# Because we ruled out integer above, we always get an arraylike here\u001b[0m\u001b[1;33m\u001b[0m\u001b[1;33m\u001b[0m\u001b[1;33m\u001b[0m\u001b[0m\n\u001b[0;32m   5198\u001b[0m         \u001b[1;32mif\u001b[0m \u001b[0mresult\u001b[0m\u001b[1;33m.\u001b[0m\u001b[0mndim\u001b[0m \u001b[1;33m>\u001b[0m \u001b[1;36m1\u001b[0m\u001b[1;33m:\u001b[0m\u001b[1;33m\u001b[0m\u001b[1;33m\u001b[0m\u001b[0m\n\u001b[1;32m-> 5199\u001b[1;33m             \u001b[0mdisallow_ndim_indexing\u001b[0m\u001b[1;33m(\u001b[0m\u001b[0mresult\u001b[0m\u001b[1;33m)\u001b[0m\u001b[1;33m\u001b[0m\u001b[1;33m\u001b[0m\u001b[0m\n\u001b[0m\u001b[0;32m   5200\u001b[0m \u001b[1;33m\u001b[0m\u001b[0m\n\u001b[0;32m   5201\u001b[0m         \u001b[1;31m# NB: Using _constructor._simple_new would break if MultiIndex\u001b[0m\u001b[1;33m\u001b[0m\u001b[1;33m\u001b[0m\u001b[1;33m\u001b[0m\u001b[0m\n",
      "\u001b[1;32m~\\AppData\\Roaming\\Python\\Python38\\site-packages\\pandas\\core\\indexers\\utils.py\u001b[0m in \u001b[0;36mdisallow_ndim_indexing\u001b[1;34m(result)\u001b[0m\n\u001b[0;32m    341\u001b[0m     \"\"\"\n\u001b[0;32m    342\u001b[0m     \u001b[1;32mif\u001b[0m \u001b[0mnp\u001b[0m\u001b[1;33m.\u001b[0m\u001b[0mndim\u001b[0m\u001b[1;33m(\u001b[0m\u001b[0mresult\u001b[0m\u001b[1;33m)\u001b[0m \u001b[1;33m>\u001b[0m \u001b[1;36m1\u001b[0m\u001b[1;33m:\u001b[0m\u001b[1;33m\u001b[0m\u001b[1;33m\u001b[0m\u001b[0m\n\u001b[1;32m--> 343\u001b[1;33m         raise ValueError(\n\u001b[0m\u001b[0;32m    344\u001b[0m             \u001b[1;34m\"Multi-dimensional indexing (e.g. `obj[:, None]`) is no longer \"\u001b[0m\u001b[1;33m\u001b[0m\u001b[1;33m\u001b[0m\u001b[0m\n\u001b[0;32m    345\u001b[0m             \u001b[1;34m\"supported. Convert to a numpy array before indexing instead.\"\u001b[0m\u001b[1;33m\u001b[0m\u001b[1;33m\u001b[0m\u001b[0m\n",
      "\u001b[1;31mValueError\u001b[0m: Multi-dimensional indexing (e.g. `obj[:, None]`) is no longer supported. Convert to a numpy array before indexing instead."
     ]
    },
    {
     "data": {
      "image/png": "[encoded data removed]",
      "text/plain": [
       "<Figure size 864x576 with 1 Axes>"
      ]
     },
     "metadata": {
      "needs_background": "light"
     },
     "output_type": "display_data"
    }
   ],
   "source": [
    "import matplotlib.pyplot as plt\n",
    "import seaborn as sns\n",
    "\n",
    "# Plot distribution of key numerical variables\n",
    "num_cols = [\"avg_monthly_litres\", \"avg_monthly_spend\", \"visits_per_month\", \"loyalty_score\"]\n",
    "\n",
    "plt.figure(figsize=(12,8))\n",
    "for i, col in enumerate(num_cols, 1):\n",
    "    plt.subplot(2, 2, i)\n",
    "    sns.histplot(df[col], kde=True, bins=30, color='skyblue')\n",
    "    plt.title(f\"Distribution of {col}\")\n",
    "plt.tight_layout()\n",
    "plt.show()\n"
   ]
  }
 ],
 "metadata": {
  "kernelspec": {
   "display_name": "learn-env",
   "language": "python",
   "name": "python3"
  },
  "language_info": {
   "codemirror_mode": {
    "name": "ipython",
    "version": 3
   },
   "file_extension": ".py",
   "mimetype": "text/x-python",
   "name": "python",
   "nbconvert_exporter": "python",
   "pygments_lexer": "ipython3",
   "version": "3.8.5"
  }
 },
 "nbformat": 4,
 "nbformat_minor": 5
}
