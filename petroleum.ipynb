{
 "cells": [
  {
   "cell_type": "markdown",
   "metadata": {},
   "source": [
    "#  Petroleum Customer Clustering Project — Sicah Energies LTD\n",
    "\n",
    "## 1. Business Understanding\n",
    "\n",
    "Sicah Energies LTD is a petroleum products dealer that serves a diverse range of customers — from individual motorists and small businesses to large commercial clients. Each customer segment demonstrates unique purchasing behaviors such as fueling frequency, preferred fuel type, payment methods, and spending levels.\n",
    "\n",
    "In an increasingly competitive petroleum market, understanding customer behavior is essential for maintaining loyalty and improving profitability. Applying uniform marketing, pricing, and loyalty strategies across all customers often leads to inefficiencies and lost opportunities.\n",
    "\n",
    "This project seeks to **analyze and segment Sicah Energies LTD’s customers** based on their purchasing and behavioral characteristics. Through data-driven insights, the company aims to enhance its marketing strategies, strengthen customer relationships, and improve overall business performance.\n"
   ]
  },
  {
   "cell_type": "markdown",
   "metadata": {},
   "source": [
    "## 2. Problem Statement\n",
    "\n",
    "Sicah Energies LTD currently lacks a clear understanding of the various customer groups it serves. Without data-driven segmentation, all customers are treated uniformly when designing loyalty programs, promotional campaigns, and service packages.\n",
    "\n",
    "This generalized approach has led to:\n",
    "- Missed opportunities for targeted marketing,\n",
    "- Inefficient allocation of marketing resources,\n",
    "- Poor understanding of customer churn risks and demand variations.\n",
    "\n",
    "To address this challenge, this project will apply **unsupervised machine learning (clustering)** to group customers with similar characteristics and purchasing patterns. These insights will enable the company to design tailored marketing initiatives, improve loyalty programs, and optimize operational decisions.\n"
   ]
  },
  {
   "cell_type": "markdown",
   "metadata": {},
   "source": [
    "## 4. Success Criteria\n",
    "\n",
    "The success of this project will be evaluated based on the following:\n",
    "\n",
    "- The clustering model should identify **distinct and interpretable customer groups**.  \n",
    "- Each identified cluster should display clear differences in behavior, such as spending habits, frequency of visits, or fuel type preferences.  \n",
    "- The insights generated should support **data-driven decision-making** at Sicah Energies LTD, enabling personalized marketing, customer retention, and increased profitability.\n"
   ]
  },
  {
   "cell_type": "markdown",
   "metadata": {},
   "source": [
    "## 5. Dataset Description\n",
    "\n",
    "The dataset used in this analysis contains anonymized customer records provided by **Sicah Energies LTD**.  \n",
    "Each record represents a unique customer and captures both behavioral and demographic information.\n",
    "\n",
    "| Column | Description |\n",
    "|---------|-------------|\n",
    "| `customer_id` | Unique identifier for each customer |\n",
    "| `station_id` | The station where the customer primarily transacts |\n",
    "| `avg_monthly_litres` | Average fuel volume purchased per month |\n",
    "| `avg_monthly_spend` | Total amount spent per month (in local currency) |\n",
    "| `visits_per_month` | Average number of fueling visits per month |\n",
    "| `preferred_fuel` | Type of fuel mostly purchased (Petrol, Diesel, or Kerosene) |\n",
    "| `payment_method` | Primary payment mode (Mpesa, Cash, or Credit) |\n",
    "| `location_type` | Indicates whether the customer is based in an Urban or Rural area |\n",
    "| `loyalty_score` | Loyalty metric ranging from 0 to 100, representing customer engagement |\n",
    "\n",
    "This dataset will form the foundation for the **clustering analysis**, enabling the identification of patterns and groupings within Sicah Energies LTD’s customer base.\n"
   ]
  },
  {
   "cell_type": "markdown",
   "metadata": {},
   "source": [
    "# 6. Data Understanding\n",
    "\n",
    "In this phase, we explore the structure and content of Sicah Energies LTD’s customer dataset to gain a deeper understanding of the variables available for analysis.\n",
    "\n",
    "This includes:\n",
    "- Loading the dataset into a pandas DataFrame  \n",
    "- Inspecting the first few records  \n",
    "- Reviewing data types and basic statistics  \n",
    "- Identifying missing or inconsistent values  \n",
    "- Understanding categorical feature distributions  \n",
    "\n",
    "A clear understanding of the data ensures that we prepare it appropriately for clustering and derive reliable insights.\n"
   ]
  },
  {
   "cell_type": "markdown",
   "metadata": {},
   "source": [
    "# 7. Load and Inspect Dataset"
   ]
  },
  {
   "cell_type": "code",
   "execution_count": 28,
   "id": "af1a08c9",
   "metadata": {},
   "outputs": [],
   "source": [
    "# Import required libraries\n",
    "import pandas as pd\n",
    "import numpy as np\n",
    "import matplotlib.pyplot as plt\n",
    "import seaborn as sns\n",
    "from sklearn.preprocessing import StandardScaler\n",
    "\n",
    "from sklearn.cluster import KMeans\n",
    "from sklearn.metrics import silhouette_score\n",
    "from sklearn.decomposition import PCA\n",
    "from sklearn.pipeline import make_pipeline\n",
    "import joblib   # for saving model\n",
    "\n",
    "# plotting defaults\n",
    "sns.set(style=\"whitegrid\")\n",
    "RANDOM_STATE = 42"
   ]
  },
  {
   "cell_type": "code",
   "execution_count": 3,
   "metadata": {},
   "outputs": [
    {
     "data": {
      "text/html": [
       "<div>\n",
       "<style scoped>\n",
       "    .dataframe tbody tr th:only-of-type {\n",
       "        vertical-align: middle;\n",
       "    }\n",
       "\n",
       "    .dataframe tbody tr th {\n",
       "        vertical-align: top;\n",
       "    }\n",
       "\n",
       "    .dataframe thead th {\n",
       "        text-align: right;\n",
       "    }\n",
       "</style>\n",
       "<table border=\"1\" class=\"dataframe\">\n",
       "  <thead>\n",
       "    <tr style=\"text-align: right;\">\n",
       "      <th></th>\n",
       "      <th>customer_id</th>\n",
       "      <th>station_id</th>\n",
       "      <th>avg_monthly_litres</th>\n",
       "      <th>avg_monthly_spend</th>\n",
       "      <th>visits_per_month</th>\n",
       "      <th>preferred_fuel</th>\n",
       "      <th>payment_method</th>\n",
       "      <th>location_type</th>\n",
       "      <th>loyalty_score</th>\n",
       "    </tr>\n",
       "  </thead>\n",
       "  <tbody>\n",
       "    <tr>\n",
       "      <th>0</th>\n",
       "      <td>C001</td>\n",
       "      <td>107</td>\n",
       "      <td>813</td>\n",
       "      <td>149738.16</td>\n",
       "      <td>8</td>\n",
       "      <td>Petrol</td>\n",
       "      <td>Cash</td>\n",
       "      <td>Rural</td>\n",
       "      <td>60</td>\n",
       "    </tr>\n",
       "    <tr>\n",
       "      <th>1</th>\n",
       "      <td>C002</td>\n",
       "      <td>104</td>\n",
       "      <td>444</td>\n",
       "      <td>78369.02</td>\n",
       "      <td>6</td>\n",
       "      <td>Petrol</td>\n",
       "      <td>Mpesa</td>\n",
       "      <td>Urban</td>\n",
       "      <td>46</td>\n",
       "    </tr>\n",
       "    <tr>\n",
       "      <th>2</th>\n",
       "      <td>C003</td>\n",
       "      <td>108</td>\n",
       "      <td>518</td>\n",
       "      <td>83554.63</td>\n",
       "      <td>5</td>\n",
       "      <td>Diesel</td>\n",
       "      <td>Mpesa</td>\n",
       "      <td>Urban</td>\n",
       "      <td>83</td>\n",
       "    </tr>\n",
       "    <tr>\n",
       "      <th>3</th>\n",
       "      <td>C004</td>\n",
       "      <td>105</td>\n",
       "      <td>410</td>\n",
       "      <td>73387.76</td>\n",
       "      <td>8</td>\n",
       "      <td>Petrol</td>\n",
       "      <td>Cash</td>\n",
       "      <td>Urban</td>\n",
       "      <td>91</td>\n",
       "    </tr>\n",
       "    <tr>\n",
       "      <th>4</th>\n",
       "      <td>C005</td>\n",
       "      <td>107</td>\n",
       "      <td>277</td>\n",
       "      <td>52226.16</td>\n",
       "      <td>4</td>\n",
       "      <td>Diesel</td>\n",
       "      <td>Credit</td>\n",
       "      <td>Urban</td>\n",
       "      <td>61</td>\n",
       "    </tr>\n",
       "  </tbody>\n",
       "</table>\n",
       "</div>"
      ],
      "text/plain": [
       "  customer_id  station_id  avg_monthly_litres  avg_monthly_spend  \\\n",
       "0        C001         107                 813          149738.16   \n",
       "1        C002         104                 444           78369.02   \n",
       "2        C003         108                 518           83554.63   \n",
       "3        C004         105                 410           73387.76   \n",
       "4        C005         107                 277           52226.16   \n",
       "\n",
       "   visits_per_month preferred_fuel payment_method location_type  loyalty_score  \n",
       "0                 8         Petrol           Cash         Rural             60  \n",
       "1                 6         Petrol          Mpesa         Urban             46  \n",
       "2                 5         Diesel          Mpesa         Urban             83  \n",
       "3                 8         Petrol           Cash         Urban             91  \n",
       "4                 4         Diesel         Credit         Urban             61  "
      ]
     },
     "execution_count": 3,
     "metadata": {},
     "output_type": "execute_result"
    }
   ],
   "source": [
    "# Load dataset\n",
    "df = pd.read_csv(\"Data\\petroleum_customers.csv\")\n",
    "\n",
    "# Display the first 5 records\n",
    "df.head()\n"
   ]
  },
  {
   "cell_type": "markdown",
   "metadata": {},
   "source": [
    "# 8. Explore Dataset structure"
   ]
  },
  {
   "cell_type": "code",
   "execution_count": 4,
   "metadata": {},
   "outputs": [
    {
     "name": "stdout",
     "output_type": "stream",
     "text": [
      "Dataset contains 500 rows and 9 columns.\n",
      "\n",
      "<class 'pandas.core.frame.DataFrame'>\n",
      "RangeIndex: 500 entries, 0 to 499\n",
      "Data columns (total 9 columns):\n",
      " #   Column              Non-Null Count  Dtype  \n",
      "---  ------              --------------  -----  \n",
      " 0   customer_id         500 non-null    object \n",
      " 1   station_id          500 non-null    int64  \n",
      " 2   avg_monthly_litres  500 non-null    int64  \n",
      " 3   avg_monthly_spend   500 non-null    float64\n",
      " 4   visits_per_month    500 non-null    int64  \n",
      " 5   preferred_fuel      500 non-null    object \n",
      " 6   payment_method      500 non-null    object \n",
      " 7   location_type       500 non-null    object \n",
      " 8   loyalty_score       500 non-null    int64  \n",
      "dtypes: float64(1), int64(4), object(4)\n",
      "memory usage: 35.3+ KB\n"
     ]
    },
    {
     "data": {
      "text/html": [
       "<div>\n",
       "<style scoped>\n",
       "    .dataframe tbody tr th:only-of-type {\n",
       "        vertical-align: middle;\n",
       "    }\n",
       "\n",
       "    .dataframe tbody tr th {\n",
       "        vertical-align: top;\n",
       "    }\n",
       "\n",
       "    .dataframe thead th {\n",
       "        text-align: right;\n",
       "    }\n",
       "</style>\n",
       "<table border=\"1\" class=\"dataframe\">\n",
       "  <thead>\n",
       "    <tr style=\"text-align: right;\">\n",
       "      <th></th>\n",
       "      <th>count</th>\n",
       "      <th>mean</th>\n",
       "      <th>std</th>\n",
       "      <th>min</th>\n",
       "      <th>25%</th>\n",
       "      <th>50%</th>\n",
       "      <th>75%</th>\n",
       "      <th>max</th>\n",
       "    </tr>\n",
       "  </thead>\n",
       "  <tbody>\n",
       "    <tr>\n",
       "      <th>station_id</th>\n",
       "      <td>500.0</td>\n",
       "      <td>105.43000</td>\n",
       "      <td>2.941156</td>\n",
       "      <td>101.00</td>\n",
       "      <td>103.0000</td>\n",
       "      <td>105.00</td>\n",
       "      <td>108.0000</td>\n",
       "      <td>110.0</td>\n",
       "    </tr>\n",
       "    <tr>\n",
       "      <th>avg_monthly_litres</th>\n",
       "      <td>500.0</td>\n",
       "      <td>491.88400</td>\n",
       "      <td>239.754497</td>\n",
       "      <td>56.00</td>\n",
       "      <td>320.0000</td>\n",
       "      <td>449.00</td>\n",
       "      <td>623.0000</td>\n",
       "      <td>1335.0</td>\n",
       "    </tr>\n",
       "    <tr>\n",
       "      <th>avg_monthly_spend</th>\n",
       "      <td>500.0</td>\n",
       "      <td>86120.78778</td>\n",
       "      <td>42365.203622</td>\n",
       "      <td>9830.37</td>\n",
       "      <td>55453.1075</td>\n",
       "      <td>78524.88</td>\n",
       "      <td>110700.6875</td>\n",
       "      <td>230185.9</td>\n",
       "    </tr>\n",
       "    <tr>\n",
       "      <th>visits_per_month</th>\n",
       "      <td>500.0</td>\n",
       "      <td>7.57400</td>\n",
       "      <td>2.892275</td>\n",
       "      <td>1.00</td>\n",
       "      <td>6.0000</td>\n",
       "      <td>8.00</td>\n",
       "      <td>10.0000</td>\n",
       "      <td>17.0</td>\n",
       "    </tr>\n",
       "    <tr>\n",
       "      <th>loyalty_score</th>\n",
       "      <td>500.0</td>\n",
       "      <td>64.21000</td>\n",
       "      <td>19.728871</td>\n",
       "      <td>30.00</td>\n",
       "      <td>47.0000</td>\n",
       "      <td>65.00</td>\n",
       "      <td>81.0000</td>\n",
       "      <td>99.0</td>\n",
       "    </tr>\n",
       "  </tbody>\n",
       "</table>\n",
       "</div>"
      ],
      "text/plain": [
       "                    count         mean           std      min         25%  \\\n",
       "station_id          500.0    105.43000      2.941156   101.00    103.0000   \n",
       "avg_monthly_litres  500.0    491.88400    239.754497    56.00    320.0000   \n",
       "avg_monthly_spend   500.0  86120.78778  42365.203622  9830.37  55453.1075   \n",
       "visits_per_month    500.0      7.57400      2.892275     1.00      6.0000   \n",
       "loyalty_score       500.0     64.21000     19.728871    30.00     47.0000   \n",
       "\n",
       "                         50%          75%       max  \n",
       "station_id            105.00     108.0000     110.0  \n",
       "avg_monthly_litres    449.00     623.0000    1335.0  \n",
       "avg_monthly_spend   78524.88  110700.6875  230185.9  \n",
       "visits_per_month        8.00      10.0000      17.0  \n",
       "loyalty_score          65.00      81.0000      99.0  "
      ]
     },
     "execution_count": 4,
     "metadata": {},
     "output_type": "execute_result"
    }
   ],
   "source": [
    "# Check dataset shape\n",
    "print(f\"Dataset contains {df.shape[0]} rows and {df.shape[1]} columns.\\n\")\n",
    "\n",
    "# Display column names and data types\n",
    "df.info()\n",
    "\n",
    "# Quick overview of numerical statistics\n",
    "df.describe().T\n"
   ]
  },
  {
   "cell_type": "code",
   "execution_count": 5,
   "metadata": {},
   "outputs": [
    {
     "name": "stdout",
     "output_type": "stream",
     "text": [
      "\n",
      "Number of duplicate rows: 0\n"
     ]
    }
   ],
   "source": [
    "# Check for duplicates\n",
    "duplicates = df.duplicated().sum()\n",
    "print(f\"\\nNumber of duplicate rows: {duplicates}\")"
   ]
  },
  {
   "cell_type": "markdown",
   "metadata": {},
   "source": [
    "# Categorical Variable Distribution"
   ]
  },
  {
   "cell_type": "code",
   "execution_count": 6,
   "metadata": {},
   "outputs": [
    {
     "name": "stdout",
     "output_type": "stream",
     "text": [
      "\n",
      "--- PREFERRED_FUEL ---\n",
      "preferred_fuel\n",
      "Petrol      54.6\n",
      "Diesel      34.6\n",
      "Kerosene    10.8\n",
      "Name: proportion, dtype: float64\n",
      "\n",
      "--- PAYMENT_METHOD ---\n",
      "payment_method\n",
      "Mpesa     50.4\n",
      "Cash      30.2\n",
      "Credit    19.4\n",
      "Name: proportion, dtype: float64\n",
      "\n",
      "--- LOCATION_TYPE ---\n",
      "location_type\n",
      "Urban    72.4\n",
      "Rural    27.6\n",
      "Name: proportion, dtype: float64\n"
     ]
    }
   ],
   "source": [
    "# Display unique values and counts for categorical features\n",
    "categorical_cols = [\"preferred_fuel\", \"payment_method\", \"location_type\"]\n",
    "\n",
    "for col in categorical_cols:\n",
    "    print(f\"\\n--- {col.upper()} ---\")\n",
    "    print(df[col].value_counts(normalize=True) * 100)\n"
   ]
  },
  {
   "cell_type": "markdown",
   "metadata": {},
   "source": [
    "# 11: Numerical Feature Distributions"
   ]
  },
  {
   "cell_type": "code",
   "execution_count": 7,
   "metadata": {},
   "outputs": [
    {
     "ename": "NameError",
     "evalue": "name 'num_cols' is not defined",
     "output_type": "error",
     "traceback": [
      "\u001b[1;31m---------------------------------------------------------------------------\u001b[0m",
      "\u001b[1;31mNameError\u001b[0m                                 Traceback (most recent call last)",
      "\u001b[1;32m<ipython-input-7-1d1e5d567dd0>\u001b[0m in \u001b[0;36m<module>\u001b[1;34m\u001b[0m\n\u001b[0;32m      1\u001b[0m \u001b[1;31m# check if numerical have the correct data types\u001b[0m\u001b[1;33m\u001b[0m\u001b[1;33m\u001b[0m\u001b[1;33m\u001b[0m\u001b[0m\n\u001b[1;32m----> 2\u001b[1;33m \u001b[0mdf\u001b[0m\u001b[1;33m[\u001b[0m\u001b[0mnum_cols\u001b[0m\u001b[1;33m]\u001b[0m\u001b[1;33m.\u001b[0m\u001b[0mdtypes\u001b[0m\u001b[1;33m\u001b[0m\u001b[1;33m\u001b[0m\u001b[0m\n\u001b[0m",
      "\u001b[1;31mNameError\u001b[0m: name 'num_cols' is not defined"
     ]
    }
   ],
   "source": [
    "# check if numerical have the correct data types\n",
    "df[num_cols].dtypes"
   ]
  },
  {
   "cell_type": "code",
   "execution_count": null,
   "metadata": {},
   "outputs": [
    {
     "data": {
      "image/png": "[encoded data removed]",
      "text/plain": [
       "<Figure size 864x576 with 4 Axes>"
      ]
     },
     "metadata": {
      "needs_background": "light"
     },
     "output_type": "display_data"
    }
   ],
   "source": [
    "# numerical columns distribution plots\n",
    "  \n",
    "num_cols = [\"avg_monthly_litres\", \"avg_monthly_spend\", \"visits_per_month\", \"loyalty_score\"]\n",
    "\n",
    "plt.figure(figsize=(12, 8))\n",
    "\n",
    "for i, col in enumerate(num_cols, 1):\n",
    "    plt.subplot(2, 2, i)\n",
    "    \n",
    "    # Coerce to numeric and drop non-numeric/missing entries\n",
    "    data = pd.to_numeric(df[col], errors='coerce').dropna()\n",
    "    data = np.ravel(data)  # ensure 1D array\n",
    "\n",
    "    sns.histplot(data, bins=30, color='skyblue')\n",
    "    plt.title(f\"Distribution of {col}\")\n",
    "    plt.xlabel(col)\n",
    "    plt.ylabel(\"Frequency\")\n",
    "\n",
    "plt.tight_layout()\n",
    "plt.show()\n"
   ]
  },
  {
   "cell_type": "markdown",
   "metadata": {},
   "source": [
    "# 7. Exploratory Data Analysis (EDA)\n",
    "\n",
    "The goal of this phase is to gain deeper insights into Sicah Energies LTD’s customers through visual and statistical exploration.  \n",
    "We aim to identify patterns and relationships that can inform the clustering stage.\n",
    "\n",
    "This involves:\n",
    "- Examining relationships between numerical features  \n",
    "- Understanding categorical feature distributions  \n",
    "- Analyzing how customer spending, visits, and loyalty vary by fuel type, payment method, and location  \n",
    "- Identifying potential outliers or unusual behaviors  \n"
   ]
  },
  {
   "cell_type": "markdown",
   "metadata": {},
   "source": [
    "## 14: Correlation Analysis (Numeric Variables)"
   ]
  },
  {
   "cell_type": "code",
   "execution_count": null,
   "metadata": {},
   "outputs": [
    {
     "data": {
      "image/png": "[encoded data removed]",
      "text/plain": [
       "<Figure size 576x432 with 2 Axes>"
      ]
     },
     "metadata": {
      "needs_background": "light"
     },
     "output_type": "display_data"
    }
   ],
   "source": [
    "# 14: Correlation Analysis (Numeric Variables)\n",
    "# Select numeric features\n",
    "num_features = [\"avg_monthly_litres\", \"avg_monthly_spend\", \"visits_per_month\", \"loyalty_score\"]\n",
    "\n",
    "# Compute correlation matrix\n",
    "corr = df[num_features].corr()\n",
    "\n",
    "# Plot heatmap\n",
    "plt.figure(figsize=(8,6))\n",
    "sns.heatmap(corr, annot=True, cmap=\"Blues\", fmt=\".2f\", linewidths=0.5)\n",
    "plt.title(\"Correlation Matrix of Numerical Features\", fontsize=14)\n",
    "plt.show()\n"
   ]
  },
  {
   "cell_type": "markdown",
   "metadata": {},
   "source": [
    "## 15: Relationship — Spend vs Loyalty"
   ]
  },
  {
   "cell_type": "code",
   "execution_count": null,
   "metadata": {},
   "outputs": [
    {
     "data": {
      "image/png": "[encoded data removed]",
      "text/plain": [
       "<Figure size 576x432 with 1 Axes>"
      ]
     },
     "metadata": {
      "needs_background": "light"
     },
     "output_type": "display_data"
    }
   ],
   "source": [
    "# Scatter plot of monthly spend vs loyalty\n",
    "plt.figure(figsize=(8,6))\n",
    "sns.scatterplot(data=df, x=\"avg_monthly_spend\", y=\"loyalty_score\", hue=\"preferred_fuel\", palette=\"viridis\", alpha=0.8)\n",
    "plt.title(\"Customer Loyalty vs Monthly Spend by Fuel Type\")\n",
    "plt.xlabel(\"Average Monthly Spend\")\n",
    "plt.ylabel(\"Loyalty Score\")\n",
    "plt.legend(title=\"Preferred Fuel\")\n",
    "plt.show()"
   ]
  },
  {
   "cell_type": "markdown",
   "metadata": {},
   "source": [
    "## 16: Average Spend and Visits by Payment Method"
   ]
  },
  {
   "cell_type": "code",
   "execution_count": null,
   "metadata": {},
   "outputs": [
    {
     "data": {
      "text/html": [
       "<div>\n",
       "<style scoped>\n",
       "    .dataframe tbody tr th:only-of-type {\n",
       "        vertical-align: middle;\n",
       "    }\n",
       "\n",
       "    .dataframe tbody tr th {\n",
       "        vertical-align: top;\n",
       "    }\n",
       "\n",
       "    .dataframe thead th {\n",
       "        text-align: right;\n",
       "    }\n",
       "</style>\n",
       "<table border=\"1\" class=\"dataframe\">\n",
       "  <thead>\n",
       "    <tr style=\"text-align: right;\">\n",
       "      <th></th>\n",
       "      <th>avg_monthly_spend</th>\n",
       "      <th>visits_per_month</th>\n",
       "    </tr>\n",
       "    <tr>\n",
       "      <th>payment_method</th>\n",
       "      <th></th>\n",
       "      <th></th>\n",
       "    </tr>\n",
       "  </thead>\n",
       "  <tbody>\n",
       "    <tr>\n",
       "      <th>Credit</th>\n",
       "      <td>89512.521134</td>\n",
       "      <td>7.082474</td>\n",
       "    </tr>\n",
       "    <tr>\n",
       "      <th>Cash</th>\n",
       "      <td>85893.436887</td>\n",
       "      <td>7.920530</td>\n",
       "    </tr>\n",
       "    <tr>\n",
       "      <th>Mpesa</th>\n",
       "      <td>84951.469722</td>\n",
       "      <td>7.555556</td>\n",
       "    </tr>\n",
       "  </tbody>\n",
       "</table>\n",
       "</div>"
      ],
      "text/plain": [
       "                avg_monthly_spend  visits_per_month\n",
       "payment_method                                     \n",
       "Credit               89512.521134          7.082474\n",
       "Cash                 85893.436887          7.920530\n",
       "Mpesa                84951.469722          7.555556"
      ]
     },
     "execution_count": 23,
     "metadata": {},
     "output_type": "execute_result"
    }
   ],
   "source": [
    "# Compare mean spend and visits by payment method\n",
    "payment_summary = df.groupby(\"payment_method\")[[\"avg_monthly_spend\", \"visits_per_month\"]].mean().sort_values(\"avg_monthly_spend\", ascending=False)\n",
    "payment_summary\n"
   ]
  },
  {
   "cell_type": "code",
   "execution_count": null,
   "metadata": {},
   "outputs": [
    {
     "data": {
      "image/png": "[encoded data removed]",
      "text/plain": [
       "<Figure size 720x360 with 1 Axes>"
      ]
     },
     "metadata": {
      "needs_background": "light"
     },
     "output_type": "display_data"
    }
   ],
   "source": [
    "# Visualize the above relationship\n",
    "plt.figure(figsize=(10,5))\n",
    "sns.barplot(data=df, x=\"payment_method\", y=\"avg_monthly_spend\", palette=\"Set2\", estimator=np.mean)\n",
    "plt.title(\"Average Monthly Spend by Payment Method\")\n",
    "plt.ylabel(\"Average Spend\")\n",
    "plt.xlabel(\"Payment Method\")\n",
    "plt.show()\n"
   ]
  },
  {
   "cell_type": "markdown",
   "metadata": {},
   "source": [
    "## 17: Fuel Preference Distribution by Location"
   ]
  },
  {
   "cell_type": "code",
   "execution_count": null,
   "metadata": {},
   "outputs": [
    {
     "data": {
      "image/png": "[encoded data removed]",
      "text/plain": [
       "<Figure size 576x360 with 1 Axes>"
      ]
     },
     "metadata": {
      "needs_background": "light"
     },
     "output_type": "display_data"
    }
   ],
   "source": [
    "# Countplot for fuel type by location\n",
    "plt.figure(figsize=(8,5))\n",
    "sns.countplot(data=df, x=\"preferred_fuel\", hue=\"location_type\", palette=\"coolwarm\")\n",
    "plt.title(\"Fuel Type Preference by Location Type\")\n",
    "plt.xlabel(\"Preferred Fuel Type\")\n",
    "plt.ylabel(\"Number of Customers\")\n",
    "plt.show()\n"
   ]
  },
  {
   "cell_type": "markdown",
   "metadata": {},
   "source": [
    "## 18: Loyalty Score by Location Type"
   ]
  },
  {
   "cell_type": "code",
   "execution_count": null,
   "metadata": {},
   "outputs": [
    {
     "data": {
      "image/png": "[encoded data removed]",
      "text/plain": [
       "<Figure size 576x360 with 1 Axes>"
      ]
     },
     "metadata": {
      "needs_background": "light"
     },
     "output_type": "display_data"
    }
   ],
   "source": [
    "# Boxplot of loyalty by location\n",
    "plt.figure(figsize=(8,5))\n",
    "sns.boxplot(data=df, x=\"location_type\", y=\"loyalty_score\", palette=\"Set3\")\n",
    "plt.title(\"Distribution of Loyalty Scores by Location Type\")\n",
    "plt.xlabel(\"Location Type\")\n",
    "plt.ylabel(\"Loyalty Score\")\n",
    "plt.show()\n"
   ]
  },
  {
   "cell_type": "markdown",
   "metadata": {},
   "source": [
    "## 19: Outlier Detection (Numerical Features)"
   ]
  },
  {
   "cell_type": "code",
   "execution_count": null,
   "metadata": {},
   "outputs": [
    {
     "data": {
      "image/png": "[encoded data removed]",
      "text/plain": [
       "<Figure size 864x576 with 4 Axes>"
      ]
     },
     "metadata": {
      "needs_background": "light"
     },
     "output_type": "display_data"
    }
   ],
   "source": [
    "# Box15: Relationship — Spend vs Loyalty\n",
    "# Scatter plot of monthly spend vs loyalty\n",
    "plt.figure(figsize=(8,6))\n",
    "sns.scatterplot(data=df, x=\"avg_monthly_spend\", y=\"loyalty_score\", hue=\"preferred_fuel\", palette=\"viridis\", alpha=0.8)\n",
    "plt.title(\"Customer Loyalty vs Monthly Spend by Fuel Type\")\n",
    "plt.xlabel(\"Average Monthly Spend\")\n",
    "plt.ylabel(\"Loyalty Score\")\n",
    "plt.legend(title=\"Preferred Fuel\")\n",
    "plt.show()\n",
    "\n",
    "16: Average Spend and Visits by Payment Method\n",
    "# Compare mean spend and visits by payment method\n",
    "payment_summary = df.groupby(\"payment_method\")[[\"avg_monthly_spend\", \"visits_per_month\"]].mean().sort_values(\"avg_monthly_spend\", ascending=False)\n",
    "payment_summary\n",
    "​\n",
    "avg_monthly_spend\tvisits_per_month\n",
    "payment_method\t\t\n",
    "Credit\t89512.521134\t7.082474\n",
    "Cash\t85893.436887\t7.920530\n",
    "Mpesa\t84951.469722\t7.555556\n",
    "# Visualize the above relationship\n",
    "plt.figure(figsize=(10,5))\n",
    "sns.barplot(data=df, x=\"payment_method\", y=\"avg_monthly_spend\", palette=\"Set2\", estimator=np.mean)\n",
    "plt.title(\"Average Monthly Spend by Payment Method\")\n",
    "plt.ylabel(\"Average Spend\")\n",
    "plt.xlabel(\"Payment Method\")\n",
    "plt.show()\n",
    "​\n",
    "\n",
    "17: Fuel Preference Distribution by Location\n",
    "# Countplot for fuel type by location\n",
    "plt.figure(figsize=(8,5))\n",
    "sns.countplot(data=df, x=\"preferred_fuel\", hue=\"location_type\", palette=\"coolwarm\")\n",
    "plt.title(\"Fuel Type Preference by Location Type\")\n",
    "plt.xlabel(\"Preferred Fuel Type\")\n",
    "plt.ylabel(\"Number of Customers\")\n",
    "plt.show()\n",
    "​\n",
    "\n",
    "18: Loyalty Score by Location Type\n",
    "# Boxplot of loyalty by location\n",
    "plt.figure(figsize=(8,5))\n",
    "sns.boxplot(data=df, x=\"location_type\", y=\"loyalty_score\", palette=\"Set3\")\n",
    "plt.title(\"Distribution of Loyalty Scores by Location Type\")\n",
    "plt.xlabel(\"Location Type\")\n",
    "plt.ylabel(\"Loyalty Score\")\n",
    "plt.show()\n",
    "​\n",
    "\n",
    "19: Outlier Detection (Numerical Features)plots for numerical features\n",
    "plt.figure(figsize=(12,8))\n",
    "for i, col in enumerate(num_features, 1):\n",
    "    plt.subplot(2, 2, i)\n",
    "    sns.boxplot(data=df, y=col, color=\"lightblue\")\n",
    "    plt.title(f\"Boxplot of {col}\")\n",
    "plt.tight_layout()\n",
    "plt.show()\n"
   ]
  },
  {
   "cell_type": "markdown",
   "metadata": {},
   "source": [
    "## 7.1 EDA Insights Summary\n",
    "\n",
    "From the analysis:\n",
    "\n",
    "- **Spending and loyalty** show a moderate positive correlation — higher spenders tend to have higher loyalty scores.  \n",
    "- **Monthly litres and spend** are strongly correlated, which is expected since fuel cost is volume-dependent.  \n",
    "- **Mpesa** is the most popular payment method and correlates with higher visit frequency.  \n",
    "- **Petrol** is the dominant fuel type, especially in **urban** stations.  \n",
    "- **Rural customers** show slightly lower loyalty scores and fewer visits compared to urban customers.  \n",
    "- A few high-value outliers exist in `avg_monthly_spend` and `avg_monthly_litres`, likely representing commercial clients.\n",
    "\n",
    "These insights will guide the **Data Preparation** stage, where we’ll encode categorical variables, scale numeric features, and prepare a clean dataset for clustering.\n"
   ]
  },
  {
   "cell_type": "markdown",
   "metadata": {},
   "source": [
    "# Data Preparation\n",
    "## 1. Overview\n",
    "\n",
    "In this section, we prepare the dataset for modeling by handling categorical and numerical variables appropriately.\n",
    "The main steps include:\n",
    "\n",
    "-Encoding categorical variables into numerical format\n",
    "\n",
    "-Scaling numeric features for uniformity\n",
    "\n",
    "-Combining the processed data into a clean, ready-to-model dataset"
   ]
  },
  {
   "cell_type": "markdown",
   "metadata": {},
   "source": [
    "## 2. Handle Categorical Variables\n",
    "\n",
    "I will use One-Hot Encoding for nominal categorical features (preferred_fuel, payment_method, location_type)."
   ]
  },
  {
   "cell_type": "code",
   "execution_count": 21,
   "metadata": {},
   "outputs": [
    {
     "data": {
      "text/html": [
       "<div>\n",
       "<style scoped>\n",
       "    .dataframe tbody tr th:only-of-type {\n",
       "        vertical-align: middle;\n",
       "    }\n",
       "\n",
       "    .dataframe tbody tr th {\n",
       "        vertical-align: top;\n",
       "    }\n",
       "\n",
       "    .dataframe thead th {\n",
       "        text-align: right;\n",
       "    }\n",
       "</style>\n",
       "<table border=\"1\" class=\"dataframe\">\n",
       "  <thead>\n",
       "    <tr style=\"text-align: right;\">\n",
       "      <th></th>\n",
       "      <th>customer_id</th>\n",
       "      <th>station_id</th>\n",
       "      <th>avg_monthly_litres</th>\n",
       "      <th>avg_monthly_spend</th>\n",
       "      <th>visits_per_month</th>\n",
       "      <th>loyalty_score</th>\n",
       "      <th>preferred_fuel_Kerosene</th>\n",
       "      <th>preferred_fuel_Petrol</th>\n",
       "      <th>payment_method_Credit</th>\n",
       "      <th>payment_method_Mpesa</th>\n",
       "      <th>location_type_Urban</th>\n",
       "    </tr>\n",
       "  </thead>\n",
       "  <tbody>\n",
       "    <tr>\n",
       "      <th>0</th>\n",
       "      <td>C001</td>\n",
       "      <td>107</td>\n",
       "      <td>813</td>\n",
       "      <td>149738.16</td>\n",
       "      <td>8</td>\n",
       "      <td>60</td>\n",
       "      <td>0</td>\n",
       "      <td>1</td>\n",
       "      <td>0</td>\n",
       "      <td>0</td>\n",
       "      <td>0</td>\n",
       "    </tr>\n",
       "    <tr>\n",
       "      <th>1</th>\n",
       "      <td>C002</td>\n",
       "      <td>104</td>\n",
       "      <td>444</td>\n",
       "      <td>78369.02</td>\n",
       "      <td>6</td>\n",
       "      <td>46</td>\n",
       "      <td>0</td>\n",
       "      <td>1</td>\n",
       "      <td>0</td>\n",
       "      <td>1</td>\n",
       "      <td>1</td>\n",
       "    </tr>\n",
       "    <tr>\n",
       "      <th>2</th>\n",
       "      <td>C003</td>\n",
       "      <td>108</td>\n",
       "      <td>518</td>\n",
       "      <td>83554.63</td>\n",
       "      <td>5</td>\n",
       "      <td>83</td>\n",
       "      <td>0</td>\n",
       "      <td>0</td>\n",
       "      <td>0</td>\n",
       "      <td>1</td>\n",
       "      <td>1</td>\n",
       "    </tr>\n",
       "    <tr>\n",
       "      <th>3</th>\n",
       "      <td>C004</td>\n",
       "      <td>105</td>\n",
       "      <td>410</td>\n",
       "      <td>73387.76</td>\n",
       "      <td>8</td>\n",
       "      <td>91</td>\n",
       "      <td>0</td>\n",
       "      <td>1</td>\n",
       "      <td>0</td>\n",
       "      <td>0</td>\n",
       "      <td>1</td>\n",
       "    </tr>\n",
       "    <tr>\n",
       "      <th>4</th>\n",
       "      <td>C005</td>\n",
       "      <td>107</td>\n",
       "      <td>277</td>\n",
       "      <td>52226.16</td>\n",
       "      <td>4</td>\n",
       "      <td>61</td>\n",
       "      <td>0</td>\n",
       "      <td>0</td>\n",
       "      <td>1</td>\n",
       "      <td>0</td>\n",
       "      <td>1</td>\n",
       "    </tr>\n",
       "  </tbody>\n",
       "</table>\n",
       "</div>"
      ],
      "text/plain": [
       "  customer_id  station_id  avg_monthly_litres  avg_monthly_spend  \\\n",
       "0        C001         107                 813          149738.16   \n",
       "1        C002         104                 444           78369.02   \n",
       "2        C003         108                 518           83554.63   \n",
       "3        C004         105                 410           73387.76   \n",
       "4        C005         107                 277           52226.16   \n",
       "\n",
       "   visits_per_month  loyalty_score  preferred_fuel_Kerosene  \\\n",
       "0                 8             60                        0   \n",
       "1                 6             46                        0   \n",
       "2                 5             83                        0   \n",
       "3                 8             91                        0   \n",
       "4                 4             61                        0   \n",
       "\n",
       "   preferred_fuel_Petrol  payment_method_Credit  payment_method_Mpesa  \\\n",
       "0                      1                      0                     0   \n",
       "1                      1                      0                     1   \n",
       "2                      0                      0                     1   \n",
       "3                      1                      0                     0   \n",
       "4                      0                      1                     0   \n",
       "\n",
       "   location_type_Urban  \n",
       "0                    0  \n",
       "1                    1  \n",
       "2                    1  \n",
       "3                    1  \n",
       "4                    1  "
      ]
     },
     "execution_count": 21,
     "metadata": {},
     "output_type": "execute_result"
    }
   ],
   "source": [
    "# Identify categorical and numerical columns\n",
    "categorical_cols = [\"preferred_fuel\", \"payment_method\", \"location_type\"]\n",
    "numeric_cols = [\"avg_monthly_litres\", \"avg_monthly_spend\", \"visits_per_month\", \"loyalty_score\"]\n",
    "\n",
    "# One-Hot Encode categorical variables\n",
    "df_encoded = pd.get_dummies(df, columns=categorical_cols,dtype = int, drop_first=True)\n",
    "\n",
    "# Display transformed columns\n",
    "df_encoded.head()\n"
   ]
  },
  {
   "cell_type": "markdown",
   "metadata": {},
   "source": [
    "## 3 Feature Scaling"
   ]
  },
  {
   "cell_type": "code",
   "execution_count": 23,
   "metadata": {},
   "outputs": [
    {
     "data": {
      "text/html": [
       "<div>\n",
       "<style scoped>\n",
       "    .dataframe tbody tr th:only-of-type {\n",
       "        vertical-align: middle;\n",
       "    }\n",
       "\n",
       "    .dataframe tbody tr th {\n",
       "        vertical-align: top;\n",
       "    }\n",
       "\n",
       "    .dataframe thead th {\n",
       "        text-align: right;\n",
       "    }\n",
       "</style>\n",
       "<table border=\"1\" class=\"dataframe\">\n",
       "  <thead>\n",
       "    <tr style=\"text-align: right;\">\n",
       "      <th></th>\n",
       "      <th>count</th>\n",
       "      <th>mean</th>\n",
       "      <th>std</th>\n",
       "      <th>min</th>\n",
       "      <th>25%</th>\n",
       "      <th>50%</th>\n",
       "      <th>75%</th>\n",
       "      <th>max</th>\n",
       "    </tr>\n",
       "  </thead>\n",
       "  <tbody>\n",
       "    <tr>\n",
       "      <th>avg_monthly_litres</th>\n",
       "      <td>500.0</td>\n",
       "      <td>-6.394885e-17</td>\n",
       "      <td>1.001002</td>\n",
       "      <td>-1.819864</td>\n",
       "      <td>-0.717635</td>\n",
       "      <td>-0.179045</td>\n",
       "      <td>0.547424</td>\n",
       "      <td>3.520102</td>\n",
       "    </tr>\n",
       "    <tr>\n",
       "      <th>avg_monthly_spend</th>\n",
       "      <td>500.0</td>\n",
       "      <td>4.973799e-17</td>\n",
       "      <td>1.001002</td>\n",
       "      <td>-1.802584</td>\n",
       "      <td>-0.724613</td>\n",
       "      <td>-0.179475</td>\n",
       "      <td>0.580772</td>\n",
       "      <td>3.403958</td>\n",
       "    </tr>\n",
       "    <tr>\n",
       "      <th>visits_per_month</th>\n",
       "      <td>500.0</td>\n",
       "      <td>4.263256e-17</td>\n",
       "      <td>1.001002</td>\n",
       "      <td>-2.275228</td>\n",
       "      <td>-0.544753</td>\n",
       "      <td>0.147436</td>\n",
       "      <td>0.839626</td>\n",
       "      <td>3.262290</td>\n",
       "    </tr>\n",
       "    <tr>\n",
       "      <th>loyalty_score</th>\n",
       "      <td>500.0</td>\n",
       "      <td>3.197442e-16</td>\n",
       "      <td>1.001002</td>\n",
       "      <td>-1.735744</td>\n",
       "      <td>-0.873199</td>\n",
       "      <td>0.040083</td>\n",
       "      <td>0.851889</td>\n",
       "      <td>1.765172</td>\n",
       "    </tr>\n",
       "  </tbody>\n",
       "</table>\n",
       "</div>"
      ],
      "text/plain": [
       "                    count          mean       std       min       25%  \\\n",
       "avg_monthly_litres  500.0 -6.394885e-17  1.001002 -1.819864 -0.717635   \n",
       "avg_monthly_spend   500.0  4.973799e-17  1.001002 -1.802584 -0.724613   \n",
       "visits_per_month    500.0  4.263256e-17  1.001002 -2.275228 -0.544753   \n",
       "loyalty_score       500.0  3.197442e-16  1.001002 -1.735744 -0.873199   \n",
       "\n",
       "                         50%       75%       max  \n",
       "avg_monthly_litres -0.179045  0.547424  3.520102  \n",
       "avg_monthly_spend  -0.179475  0.580772  3.403958  \n",
       "visits_per_month    0.147436  0.839626  3.262290  \n",
       "loyalty_score       0.040083  0.851889  1.765172  "
      ]
     },
     "execution_count": 23,
     "metadata": {},
     "output_type": "execute_result"
    }
   ],
   "source": [
    "# Initialize scaler\n",
    "scaler = StandardScaler()\n",
    "\n",
    "# Apply scaling to numeric features\n",
    "scaled_features = scaler.fit_transform(df_encoded[numeric_cols])\n",
    "\n",
    "# Replace original columns with scaled values\n",
    "df_encoded[numeric_cols] = scaled_features\n",
    "\n",
    "# Confirm scaling effect\n",
    "df_encoded[numeric_cols].describe().T\n"
   ]
  },
  {
   "cell_type": "markdown",
   "metadata": {},
   "source": [
    "## 4 Final Feature Matrix for Clustering\n",
    "\n",
    "Assemble the full feature set to be used for modeling."
   ]
  },
  {
   "cell_type": "code",
   "execution_count": 24,
   "metadata": {},
   "outputs": [
    {
     "name": "stdout",
     "output_type": "stream",
     "text": [
      "Final dataset for modeling: 500 rows, 9 features\n"
     ]
    },
    {
     "data": {
      "text/html": [
       "<div>\n",
       "<style scoped>\n",
       "    .dataframe tbody tr th:only-of-type {\n",
       "        vertical-align: middle;\n",
       "    }\n",
       "\n",
       "    .dataframe tbody tr th {\n",
       "        vertical-align: top;\n",
       "    }\n",
       "\n",
       "    .dataframe thead th {\n",
       "        text-align: right;\n",
       "    }\n",
       "</style>\n",
       "<table border=\"1\" class=\"dataframe\">\n",
       "  <thead>\n",
       "    <tr style=\"text-align: right;\">\n",
       "      <th></th>\n",
       "      <th>avg_monthly_litres</th>\n",
       "      <th>avg_monthly_spend</th>\n",
       "      <th>visits_per_month</th>\n",
       "      <th>loyalty_score</th>\n",
       "      <th>preferred_fuel_Kerosene</th>\n",
       "      <th>preferred_fuel_Petrol</th>\n",
       "      <th>payment_method_Credit</th>\n",
       "      <th>payment_method_Mpesa</th>\n",
       "      <th>location_type_Urban</th>\n",
       "    </tr>\n",
       "  </thead>\n",
       "  <tbody>\n",
       "    <tr>\n",
       "      <th>0</th>\n",
       "      <td>1.340695</td>\n",
       "      <td>1.503146</td>\n",
       "      <td>0.147436</td>\n",
       "      <td>-0.213607</td>\n",
       "      <td>0</td>\n",
       "      <td>1</td>\n",
       "      <td>0</td>\n",
       "      <td>0</td>\n",
       "      <td>0</td>\n",
       "    </tr>\n",
       "    <tr>\n",
       "      <th>1</th>\n",
       "      <td>-0.199921</td>\n",
       "      <td>-0.183158</td>\n",
       "      <td>-0.544753</td>\n",
       "      <td>-0.923937</td>\n",
       "      <td>0</td>\n",
       "      <td>1</td>\n",
       "      <td>0</td>\n",
       "      <td>1</td>\n",
       "      <td>1</td>\n",
       "    </tr>\n",
       "    <tr>\n",
       "      <th>2</th>\n",
       "      <td>0.109037</td>\n",
       "      <td>-0.060633</td>\n",
       "      <td>-0.890848</td>\n",
       "      <td>0.953365</td>\n",
       "      <td>0</td>\n",
       "      <td>0</td>\n",
       "      <td>0</td>\n",
       "      <td>1</td>\n",
       "      <td>1</td>\n",
       "    </tr>\n",
       "    <tr>\n",
       "      <th>3</th>\n",
       "      <td>-0.341875</td>\n",
       "      <td>-0.300855</td>\n",
       "      <td>0.147436</td>\n",
       "      <td>1.359268</td>\n",
       "      <td>0</td>\n",
       "      <td>1</td>\n",
       "      <td>0</td>\n",
       "      <td>0</td>\n",
       "      <td>1</td>\n",
       "    </tr>\n",
       "    <tr>\n",
       "      <th>4</th>\n",
       "      <td>-0.897164</td>\n",
       "      <td>-0.800859</td>\n",
       "      <td>-1.236943</td>\n",
       "      <td>-0.162869</td>\n",
       "      <td>0</td>\n",
       "      <td>0</td>\n",
       "      <td>1</td>\n",
       "      <td>0</td>\n",
       "      <td>1</td>\n",
       "    </tr>\n",
       "  </tbody>\n",
       "</table>\n",
       "</div>"
      ],
      "text/plain": [
       "   avg_monthly_litres  avg_monthly_spend  visits_per_month  loyalty_score  \\\n",
       "0            1.340695           1.503146          0.147436      -0.213607   \n",
       "1           -0.199921          -0.183158         -0.544753      -0.923937   \n",
       "2            0.109037          -0.060633         -0.890848       0.953365   \n",
       "3           -0.341875          -0.300855          0.147436       1.359268   \n",
       "4           -0.897164          -0.800859         -1.236943      -0.162869   \n",
       "\n",
       "   preferred_fuel_Kerosene  preferred_fuel_Petrol  payment_method_Credit  \\\n",
       "0                        0                      1                      0   \n",
       "1                        0                      1                      0   \n",
       "2                        0                      0                      0   \n",
       "3                        0                      1                      0   \n",
       "4                        0                      0                      1   \n",
       "\n",
       "   payment_method_Mpesa  location_type_Urban  \n",
       "0                     0                    0  \n",
       "1                     1                    1  \n",
       "2                     1                    1  \n",
       "3                     0                    1  \n",
       "4                     0                    1  "
      ]
     },
     "execution_count": 24,
     "metadata": {},
     "output_type": "execute_result"
    }
   ],
   "source": [
    "# Drop non-informative columns\n",
    "df_model = df_encoded.drop([\"customer_id\", \"station_id\"], axis=1)\n",
    "\n",
    "# Display the shape of the final dataset\n",
    "print(f\"Final dataset for modeling: {df_model.shape[0]} rows, {df_model.shape[1]} features\")\n",
    "\n",
    "# Preview the first few rows\n",
    "df_model.head()\n"
   ]
  },
  {
   "cell_type": "markdown",
   "metadata": {},
   "source": [
    "### Interpretation:\n",
    "\n",
    "- The resulting dataset contains only numeric and scaled variables, ready for clustering.\n",
    "\n",
    "- customer_id and station_id were dropped because they serve as identifiers, not behavioral features.\n",
    "\n",
    "- This dataset now represents customers purely by their behavioral and categorical characteristics."
   ]
  },
  {
   "cell_type": "code",
   "execution_count": 26,
   "metadata": {},
   "outputs": [
    {
     "name": "stdout",
     "output_type": "stream",
     "text": [
      "Modelling dataset saved successfully.\n"
     ]
    }
   ],
   "source": [
    "# Save prepared dataset\n",
    "df_model.to_csv(\"Data/processed_petroleum_customers.csv\", index=False)\n",
    "print(\"Modelling dataset saved successfully.\")\n"
   ]
  },
  {
   "cell_type": "code",
   "execution_count": null,
   "metadata": {},
   "outputs": [],
   "source": []
  }
 ],
 "metadata": {
  "kernelspec": {
   "display_name": "Python 3",
   "language": "python",
   "name": "python3"
  },
  "language_info": {
   "codemirror_mode": {
    "name": "ipython",
    "version": 3
   },
   "file_extension": ".py",
   "mimetype": "text/x-python",
   "name": "python",
   "nbconvert_exporter": "python",
   "pygments_lexer": "ipython3",
   "version": "3.8.5"
  }
 },
 "nbformat": 4,
 "nbformat_minor": 5
}
